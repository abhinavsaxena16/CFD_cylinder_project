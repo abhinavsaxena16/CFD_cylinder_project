{
 "cells": [
  {
   "cell_type": "code",
   "execution_count": 1,
   "id": "911c0084-1c31-446d-a68b-993ac6b56d77",
   "metadata": {},
   "outputs": [],
   "source": [
    "#grid setup \n",
    "\n",
    "import numpy as np\n",
    "import matplotlib.pyplot as plt\n",
    "\n",
    "# Domain size (grid dimensions)\n",
    "\n",
    "nx, ny = 100, 100                        # number of grid points\n",
    "Lx, Ly = 2.0, 1.0                        # physical dimensions \n",
    "dx, dy = Lx / (nx - 1), Ly / (ny - 1)    # grid spacing\n",
    "\n",
    "# Creating the mesh grid\n",
    "\n",
    "x = np.linspace(0, Lx, nx)\n",
    "y = np.linspace(0, Ly, ny)\n",
    "X, Y = np.meshgrid(x, y)\n",
    "\n",
    "# Defining the cylinder\n",
    "\n",
    "# Cylinder parameters\n",
    "\n",
    "cx, cy = 0.5, 0.5         # center of cylinder\n",
    "radius = 0.1\n",
    "\n",
    "# Create a mask where the cylinder exists\n",
    "\n",
    "cylinder = (X - cx)**2 + (Y - cy)**2 < radius**2\n",
    "\n",
    "# Initialize fields \n",
    "\n",
    "omega = np.zeros_like(X)\n",
    "psi = np.zeros_like(X)\n"
   ]
  },
  {
   "cell_type": "code",
   "execution_count": 2,
   "id": "3af9eb81-266c-4475-994b-6f56e664e5a6",
   "metadata": {},
   "outputs": [],
   "source": [
    "# define Jacobi Solver Function\n",
    "\n",
    "def solve_poisson_jacobi(psi, omega, dx, dy, cylinder, max_iter=10000, tol=1e-5):\n",
    "    ny, nx = psi.shape\n",
    "    for it in range(max_iter):\n",
    "        psi_old = psi.copy()\n",
    "\n",
    "        # Jacobi update\n",
    "        \n",
    "        psi[1:-1, 1:-1] = 0.25 * (\n",
    "            psi_old[1:-1, 2:] + psi_old[1:-1, :-2] +\n",
    "            psi_old[2:, 1:-1] + psi_old[:-2, 1:-1] +\n",
    "            dx**2 * (-omega[1:-1, 1:-1])\n",
    "        )\n",
    "\n",
    "        # Boundary conditions\n",
    "        \n",
    "        psi[0, :] = 0        # bottom\n",
    "        psi[-1, :] = 0       # top\n",
    "        psi[:, 0] = 0        # left\n",
    "        psi[:, -1] = 0       # right\n",
    "        psi[cylinder] = 0    # inside cylinder\n",
    "\n",
    "        # Convergence check\n",
    "        \n",
    "        error = np.linalg.norm(psi - psi_old, ord=np.inf)\n",
    "        if error < tol:\n",
    "            print(f\"Converged in {it} iterations\")\n",
    "            break\n",
    "    else:\n",
    "        print(\"Did not converge\")\n",
    "    return psi\n"
   ]
  },
  {
   "cell_type": "code",
   "execution_count": 3,
   "id": "29143883-a127-4611-a5fa-f924ae822377",
   "metadata": {},
   "outputs": [
    {
     "name": "stdout",
     "output_type": "stream",
     "text": [
      "Converged in 0 iterations\n"
     ]
    }
   ],
   "source": [
    "psi = solve_poisson_jacobi(psi, omega, dx, dy, cylinder)\n"
   ]
  },
  {
   "cell_type": "code",
   "execution_count": 4,
   "id": "378f407b-948d-4792-a5c2-62a9dcc8e515",
   "metadata": {},
   "outputs": [
    {
     "data": {
      "image/png": "[encoded data removed]",
      "text/plain": [
       "<Figure size 600x300 with 2 Axes>"
      ]
     },
     "metadata": {},
     "output_type": "display_data"
    }
   ],
   "source": [
    "plt.figure(figsize=(6, 3))\n",
    "plt.contourf(X, Y, psi, levels=50, cmap='inferno')\n",
    "plt.colorbar(label=\"Streamfunction\")\n",
    "plt.contour(X, Y, cylinder, colors='white', linewidths=1)\n",
    "plt.title(\"Streamfunction after solving Poisson Equation\")\n",
    "plt.xlabel(\"x\")\n",
    "plt.ylabel(\"y\")\n",
    "plt.axis(\"equal\")\n",
    "plt.savefig(\"streamfunction_plot.png\", dpi=300, bbox_inches='tight')\n",
    "plt.show()"
   ]
  },
  {
   "cell_type": "code",
   "execution_count": null,
   "id": "44f46bdb-cabd-46b0-a381-9f0af2f67f4b",
   "metadata": {},
   "outputs": [],
   "source": []
  }
 ],
 "metadata": {
  "kernelspec": {
   "display_name": "Python 3 (ipykernel)",
   "language": "python",
   "name": "python3"
  },
  "language_info": {
   "codemirror_mode": {
    "name": "ipython",
    "version": 3
   },
   "file_extension": ".py",
   "mimetype": "text/x-python",
   "name": "python",
   "nbconvert_exporter": "python",
   "pygments_lexer": "ipython3",
   "version": "3.12.1"
  }
 },
 "nbformat": 4,
 "nbformat_minor": 5
}
